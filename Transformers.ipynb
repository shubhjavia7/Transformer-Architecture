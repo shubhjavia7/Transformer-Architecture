{
  "nbformat": 4,
  "nbformat_minor": 0,
  "metadata": {
    "colab": {
      "provenance": []
    },
    "kernelspec": {
      "name": "python3",
      "display_name": "Python 3"
    },
    "language_info": {
      "name": "python"
    }
  },
  "cells": [
    {
      "cell_type": "markdown",
      "source": [
        "# Attention\n"
      ],
      "metadata": {
        "id": "4hvn0deRZ4en"
      }
    },
    {
      "cell_type": "markdown",
      "source": [
        "* Attention is a set operator that learns to reason about the structure of a set of elements.\n",
        "* There are three inouts with every function. Query, Key, and Values."
      ],
      "metadata": {
        "id": "J_MYiHl9aYj_"
      }
    },
    {
      "cell_type": "markdown",
      "source": [
        "Keys and Values are the same. Just fed differently.\n",
        "key and valye can be onsidered as a db primary keys and value. So it will look for the closest key and return the value.\n",
        "\n",
        "Query will measure the distance to all the keys, by using Cosine Similarity, normalize by the length of the vector, exponentiate and normalize. ALso known as softmax operator.\n",
        "\n",
        "Softmax between input single queries and distance to all its keys. We get a set of weights from this which are alwayts pos and sum to 1. We compute weighted average of all values. If the value is high it has high weight and if it is low it has no relation.\n",
        "\n",
        "Attention is a matrix operator. Set of M queries, compute dist with all Q and all K. Norm, compute softmax() and then retrieve weighted average using outout of softmax as weights.\n",
        "\n",
        "Values and Keys are Matrxi with number of element x channels. Query is also matrix. Outout is also matrix with M elements and C which is dimensionalityh of outoput also channels.\n",
        "\n",
        "For language taks, we take input and split into parts - characters, words, tokens. Tokens is the most popular.\n",
        "\n",
        "Then we embed each part/token, embed will associate some feature vector to each token. Feed embeddings to attention.\n",
        "\n",
        "Make Q, K, and V all equal to embeddings.\n",
        "\n",
        "Take a sentence, convert to bunch of numbers, feed through layers to make sense of these numbers."
      ],
      "metadata": {
        "id": "r5wG23EhpqM-"
      }
    },
    {
      "cell_type": "markdown",
      "source": [
        "Two types of Attention. Self-Attention and Cross-Attention\n",
        "self uses Q, K, and V.\n",
        "\n",
        "corss-attention uses two inputs. Keys and Valyes come from same input but queries come from another set of inputs.\n",
        "\n",
        "Self is used in NLP, and Cross is used in Vision."
      ],
      "metadata": {
        "id": "BehMDuKJp3J9"
      }
    },
    {
      "cell_type": "markdown",
      "source": [
        "# Multi-head Attention"
      ],
      "metadata": {
        "id": "ObHeEvjHE_C4"
      }
    },
    {
      "cell_type": "markdown",
      "source": [
        "Basic attentino is never used. MHA is almost always what people talk about.\n",
        "issue wih self attention that cosine similarity diagonal of this will always be dominant. Meaning x1 will always be closest to itself x1.\n",
        "\n",
        "To fix this we multiply it with linear layer before we feeed it into attention. so we input Wq, Wk, Wv. Weights x input.\n",
        "\n",
        "multi head attention is simply multiple attention blocks connnected.\n",
        "\n",
        "for example - takes an input x, runs multipke attneiton heads in parallel where each has its own weight matrix/linear layer, run them all through network and concat. and add one more linear layer for classification\n"
      ],
      "metadata": {
        "id": "DU5Wn4Lsp8DP"
      }
    },
    {
      "cell_type": "code",
      "source": [
        "import torch"
      ],
      "metadata": {
        "id": "yOFkojF-HK_Z"
      },
      "execution_count": null,
      "outputs": []
    },
    {
      "cell_type": "code",
      "source": [
        "torch_attn = torch.nn.MultiheadAttention(embed_dim=16, num_heads=4, dropout=0, batch_first=True) # first dim is our batch size."
      ],
      "metadata": {
        "id": "cZNVnR6JHTV5"
      },
      "execution_count": null,
      "outputs": []
    },
    {
      "cell_type": "code",
      "source": [
        "k,v,q = torch.rand(10,3,16), torch.rand(10,3,16), torch.rand(10,5,16)\n",
        "o,_ = torch_attn(q,k,v)\n",
        "print(o.shape) # batch size, number of queries, embed_dim\n",
        "print([(n,v.shape) for n,v in torch_attn.named_parameters()])"
      ],
      "metadata": {
        "colab": {
          "base_uri": "https://localhost:8080/"
        },
        "id": "Ivzx3h0vHmNj",
        "outputId": "6bd43eeb-ec4a-4772-9ca6-ffedbbe98387"
      },
      "execution_count": null,
      "outputs": [
        {
          "output_type": "stream",
          "name": "stdout",
          "text": [
            "torch.Size([10, 5, 16])\n",
            "[('in_proj_weight', torch.Size([48, 16])), ('in_proj_bias', torch.Size([48])), ('out_proj.weight', torch.Size([16, 16])), ('out_proj.bias', torch.Size([16]))]\n"
          ]
        }
      ]
    },
    {
      "cell_type": "code",
      "source": [
        "class MHA(torch.nn.Module):\n",
        "    def __init__(self, embed_dim, num_heads):\n",
        "        super().__init__()\n",
        "        self.in_proj_keys = torch.nn.Linear(embed_dim, embed_dim)\n",
        "        self.in_proj_values = torch.nn.Linear(embed_dim, embed_dim)\n",
        "        self.in_proj_queries = torch.nn.Linear(embed_dim, embed_dim)\n",
        "        self.out_proj = torch.nn.Linear(embed_dim, embed_dim)\n",
        "        self.n_heads = num_heads\n",
        "\n",
        "    def forward(self, q,k,v):\n",
        "      from einops import rearrange\n",
        "      p_q, p_k, p_v = self.in_proj_queries(q), self.in_proj_keys(k), self.in_proj_values(v)\n",
        "      r_q = rearrange(p_q, 'b m (h d) -> b h m d', h=self.n_heads)\n",
        "      r_k = rearrange(p_k, 'b n (h d) -> b h n d', h=self.n_heads)\n",
        "      r_v = rearrange(p_v, 'b n (h d) -> b h n d', h=self.n_heads)\n",
        "\n",
        "      scores  = torch.einsum('b h m d, b h n d -> b h m n', r_q, r_k) # vector product of every combination of b an h, m and n, and d. Rw attention weights.\n",
        "      attn = torch.nn.functional.softmax(scores, dim=-1)\n",
        "\n",
        "      result = torch.einsum('b h m n, b h n d -> b h m d', attn, r_v)\n",
        "      result = rearrange(result, 'b h m d -> b m (h d)') # take the heads, group all heads and output along 1 dim. then return out_proj of result.\n",
        "      return self.out_proj(result)\n",
        "\n",
        "our_attn = MHA(16,4)\n",
        "o = our_attn(q,k,v)\n",
        "o1,_ = torch_attn(q,k,v)\n",
        "print(o.shape, o1.shape)\n"
      ],
      "metadata": {
        "colab": {
          "base_uri": "https://localhost:8080/"
        },
        "id": "VZB35W9UH4eo",
        "outputId": "3e4d7b00-85d6-4d6b-bef6-b4ed1615984a"
      },
      "execution_count": null,
      "outputs": [
        {
          "output_type": "stream",
          "name": "stdout",
          "text": [
            "torch.Size([10, 5, 16]) torch.Size([10, 5, 16])\n"
          ]
        }
      ]
    },
    {
      "cell_type": "markdown",
      "source": [
        "# Positional Embeddings"
      ],
      "metadata": {
        "id": "-hR3c_PjLJ33"
      }
    },
    {
      "cell_type": "markdown",
      "source": [
        "Attention itself with weights is actually permutation invariant. what this means is shuffling keys and values give the same output.\n",
        "\n",
        "this is a problem because it means we cannot reason about different structures. like if you move around words in a sentence they change meaning. what this code so far is not optimized to handle.\n",
        "\n",
        "this is fine in problems like weather forecasting.\n",
        "\n",
        "Add positiona to embeddings.\n",
        "\n",
        "option 1: absolute positional embedding. use the absolute raw position. not meaningful, model will have hard time decoding position 1, 2, etc.\n",
        "\n",
        "option 2: Sinusoidal positoinal embeddings. Sin and Cosine positional embedding. take input and location of input. divided it by some base frequency (power of 2). model can use this sin and cosine to loacte inputs.\n",
        "\n",
        "option 3: learned positional embeddings. run them through a model and learn. performance drops when sequence length varies between train/test. train should be as long or longer than test.\n",
        "\n",
        "Vision transformers, option 3 example.\n",
        "\n",
        "option 4: relative positional embeddings.learn bias insdie the softmax. get rid of hald values.\n",
        "\n",
        "Rotational Positonal Embeddings: built on absolute positoins. emeb abs pos, once computed it will resolve to weighted\n",
        "\n",
        "Applications of PE: LLMs,Vision transformer, implicit functions."
      ],
      "metadata": {
        "id": "ni9pkUlWqBlY"
      }
    },
    {
      "cell_type": "code",
      "source": [
        "import torch\n",
        "import numpy as np\n",
        "from PIL import Image\n",
        "im = Image.open('/content/rose-3802424_1280.jpg')\n",
        "im_small  = im.resize((128,128))\n",
        "im_small\n",
        "\n"
      ],
      "metadata": {
        "colab": {
          "base_uri": "https://localhost:8080/",
          "height": 145
        },
        "id": "d_2TY6itQ4tZ",
        "outputId": "ef8a7ac7-4cbd-4541-98d7-583dbd11eb05"
      },
      "execution_count": null,
      "outputs": [
        {
          "output_type": "execute_result",
          "data": {
            "text/plain": [
              "<PIL.Image.Image image mode=RGB size=128x128>"
            ],
            "image/png": "[encoded data removed]",
            "image/jpeg": "[encoded data removed]"
          },
          "metadata": {},
          "execution_count": 12
        }
      ]
    },
    {
      "cell_type": "code",
      "source": [
        "class PositionalEmbedding(torch.nn.Module):\n",
        "  def __init__(self, embed_dim):\n",
        "    super().__init__()\n",
        "    self.freq = torch.exp(-torch.arange(0, embed_dim, 2).float() / 2)\n",
        "\n",
        "  def forward(self, x):\n",
        "    x = x[...,None,:]*self.freq[...,None]\n",
        "    #print(x.shape)\n",
        "    return torch.cat([torch.sin(x), torch.cos(x)], dim=-1).view(*x.shape[:-2],-1)\n",
        "\n",
        "pe = PositionalEmbedding(16)\n",
        "pe(torch.tensor([[1,0],[0,1]])).shape"
      ],
      "metadata": {
        "colab": {
          "base_uri": "https://localhost:8080/"
        },
        "id": "Gq4oYGXbT2sY",
        "outputId": "5f140bb0-114a-4697-f173-ba38142c2ece"
      },
      "execution_count": null,
      "outputs": [
        {
          "output_type": "execute_result",
          "data": {
            "text/plain": [
              "torch.Size([2, 32])"
            ]
          },
          "metadata": {},
          "execution_count": 24
        }
      ]
    },
    {
      "cell_type": "code",
      "source": [
        "class Rose(torch.nn.Module):\n",
        "  def __init__(self):\n",
        "    super().__init__()\n",
        "    self.enc = PositionalEmbedding(12)\n",
        "    self.net  = torch.nn.Sequential(\n",
        "        torch.nn.Linear(24,256),\n",
        "        torch.nn.ReLU(),\n",
        "        torch.nn.Linear(256,128),\n",
        "        torch.nn.ReLU(),\n",
        "        torch.nn.Linear(128,64),\n",
        "        torch.nn.ReLU(),\n",
        "        torch.nn.Linear(64,3),\n",
        "    )\n",
        "  def forward(self,x):\n",
        "    return self.net(self.enc(x))\n",
        "\n",
        "rose_tensor = torch.as_tensor(np.array(im_small), dtype=torch.float32)/255.-0.5\n",
        "postion  = torch.stack(torch.meshgrid(torch.linspace(-1,1,128), # x y cordinates from -1 1 of size 128,128\n",
        "                                      torch.linspace(-1,1,128)),dim=-1)\n",
        "\n",
        "net = Rose()\n",
        "\n",
        "\n",
        "optim = torch.optim.Adam(net.parameters(), lr=0.001)\n",
        "for it in range(5000):\n",
        "  optim.zero_grad()\n",
        "  loss = abs(net(postion) -rose_tensor).mean()\n",
        "  if it%10==0:\n",
        "    print(loss)\n",
        "  loss.backward()\n",
        "  optim.step()\n",
        "\n",
        "Image.fromarray(((net(postion)+0.5).clamp(0,1)*255).cpu().to(torch.uint8).numpy())\n",
        "\n",
        "# model cannoy find fine details but learns the background. because we used identity for encoder.\n",
        "\n"
      ],
      "metadata": {
        "colab": {
          "base_uri": "https://localhost:8080/",
          "height": 1000
        },
        "id": "3iyDUUwJRV2z",
        "outputId": "b275c17c-e0df-4733-9712-bae086e6095a"
      },
      "execution_count": null,
      "outputs": [
        {
          "output_type": "stream",
          "name": "stdout",
          "text": [
            "tensor(0.1701, grad_fn=<MeanBackward0>)\n",
            "tensor(0.1424, grad_fn=<MeanBackward0>)\n",
            "tensor(0.1321, grad_fn=<MeanBackward0>)\n",
            "tensor(0.1201, grad_fn=<MeanBackward0>)\n",
            "tensor(0.1066, grad_fn=<MeanBackward0>)\n",
            "tensor(0.0932, grad_fn=<MeanBackward0>)\n",
            "tensor(0.0863, grad_fn=<MeanBackward0>)\n",
            "tensor(0.0802, grad_fn=<MeanBackward0>)\n",
            "tensor(0.0763, grad_fn=<MeanBackward0>)\n",
            "tensor(0.0778, grad_fn=<MeanBackward0>)\n",
            "tensor(0.0760, grad_fn=<MeanBackward0>)\n",
            "tensor(0.0716, grad_fn=<MeanBackward0>)\n",
            "tensor(0.0698, grad_fn=<MeanBackward0>)\n",
            "tensor(0.0679, grad_fn=<MeanBackward0>)\n",
            "tensor(0.0668, grad_fn=<MeanBackward0>)\n",
            "tensor(0.0655, grad_fn=<MeanBackward0>)\n",
            "tensor(0.0657, grad_fn=<MeanBackward0>)\n",
            "tensor(0.0651, grad_fn=<MeanBackward0>)\n",
            "tensor(0.0625, grad_fn=<MeanBackward0>)\n",
            "tensor(0.0630, grad_fn=<MeanBackward0>)\n",
            "tensor(0.0618, grad_fn=<MeanBackward0>)\n",
            "tensor(0.0603, grad_fn=<MeanBackward0>)\n",
            "tensor(0.0600, grad_fn=<MeanBackward0>)\n",
            "tensor(0.0612, grad_fn=<MeanBackward0>)\n",
            "tensor(0.0582, grad_fn=<MeanBackward0>)\n",
            "tensor(0.0577, grad_fn=<MeanBackward0>)\n",
            "tensor(0.0571, grad_fn=<MeanBackward0>)\n",
            "tensor(0.0588, grad_fn=<MeanBackward0>)\n",
            "tensor(0.0580, grad_fn=<MeanBackward0>)\n",
            "tensor(0.0577, grad_fn=<MeanBackward0>)\n",
            "tensor(0.0564, grad_fn=<MeanBackward0>)\n",
            "tensor(0.0548, grad_fn=<MeanBackward0>)\n",
            "tensor(0.0573, grad_fn=<MeanBackward0>)\n",
            "tensor(0.0537, grad_fn=<MeanBackward0>)\n",
            "tensor(0.0559, grad_fn=<MeanBackward0>)\n",
            "tensor(0.0532, grad_fn=<MeanBackward0>)\n",
            "tensor(0.0545, grad_fn=<MeanBackward0>)\n",
            "tensor(0.0539, grad_fn=<MeanBackward0>)\n",
            "tensor(0.0520, grad_fn=<MeanBackward0>)\n",
            "tensor(0.0522, grad_fn=<MeanBackward0>)\n",
            "tensor(0.0515, grad_fn=<MeanBackward0>)\n",
            "tensor(0.0527, grad_fn=<MeanBackward0>)\n",
            "tensor(0.0527, grad_fn=<MeanBackward0>)\n",
            "tensor(0.0524, grad_fn=<MeanBackward0>)\n",
            "tensor(0.0520, grad_fn=<MeanBackward0>)\n",
            "tensor(0.0500, grad_fn=<MeanBackward0>)\n",
            "tensor(0.0502, grad_fn=<MeanBackward0>)\n",
            "tensor(0.0498, grad_fn=<MeanBackward0>)\n",
            "tensor(0.0510, grad_fn=<MeanBackward0>)\n",
            "tensor(0.0499, grad_fn=<MeanBackward0>)\n",
            "tensor(0.0494, grad_fn=<MeanBackward0>)\n",
            "tensor(0.0506, grad_fn=<MeanBackward0>)\n",
            "tensor(0.0541, grad_fn=<MeanBackward0>)\n",
            "tensor(0.0541, grad_fn=<MeanBackward0>)\n",
            "tensor(0.0551, grad_fn=<MeanBackward0>)\n",
            "tensor(0.0527, grad_fn=<MeanBackward0>)\n",
            "tensor(0.0514, grad_fn=<MeanBackward0>)\n",
            "tensor(0.0534, grad_fn=<MeanBackward0>)\n",
            "tensor(0.0492, grad_fn=<MeanBackward0>)\n",
            "tensor(0.0497, grad_fn=<MeanBackward0>)\n",
            "tensor(0.0515, grad_fn=<MeanBackward0>)\n",
            "tensor(0.0493, grad_fn=<MeanBackward0>)\n",
            "tensor(0.0469, grad_fn=<MeanBackward0>)\n",
            "tensor(0.0462, grad_fn=<MeanBackward0>)\n",
            "tensor(0.0475, grad_fn=<MeanBackward0>)\n",
            "tensor(0.0462, grad_fn=<MeanBackward0>)\n",
            "tensor(0.0460, grad_fn=<MeanBackward0>)\n",
            "tensor(0.0461, grad_fn=<MeanBackward0>)\n",
            "tensor(0.0457, grad_fn=<MeanBackward0>)\n",
            "tensor(0.0481, grad_fn=<MeanBackward0>)\n",
            "tensor(0.0450, grad_fn=<MeanBackward0>)\n",
            "tensor(0.0476, grad_fn=<MeanBackward0>)\n",
            "tensor(0.0454, grad_fn=<MeanBackward0>)\n",
            "tensor(0.0445, grad_fn=<MeanBackward0>)\n",
            "tensor(0.0462, grad_fn=<MeanBackward0>)\n",
            "tensor(0.0443, grad_fn=<MeanBackward0>)\n",
            "tensor(0.0446, grad_fn=<MeanBackward0>)\n",
            "tensor(0.0453, grad_fn=<MeanBackward0>)\n",
            "tensor(0.0440, grad_fn=<MeanBackward0>)\n",
            "tensor(0.0441, grad_fn=<MeanBackward0>)\n",
            "tensor(0.0449, grad_fn=<MeanBackward0>)\n",
            "tensor(0.0445, grad_fn=<MeanBackward0>)\n",
            "tensor(0.0448, grad_fn=<MeanBackward0>)\n",
            "tensor(0.0447, grad_fn=<MeanBackward0>)\n",
            "tensor(0.0444, grad_fn=<MeanBackward0>)\n",
            "tensor(0.0452, grad_fn=<MeanBackward0>)\n",
            "tensor(0.0448, grad_fn=<MeanBackward0>)\n",
            "tensor(0.0445, grad_fn=<MeanBackward0>)\n",
            "tensor(0.0431, grad_fn=<MeanBackward0>)\n",
            "tensor(0.0473, grad_fn=<MeanBackward0>)\n",
            "tensor(0.0440, grad_fn=<MeanBackward0>)\n",
            "tensor(0.0439, grad_fn=<MeanBackward0>)\n",
            "tensor(0.0451, grad_fn=<MeanBackward0>)\n",
            "tensor(0.0434, grad_fn=<MeanBackward0>)\n",
            "tensor(0.0430, grad_fn=<MeanBackward0>)\n",
            "tensor(0.0427, grad_fn=<MeanBackward0>)\n",
            "tensor(0.0444, grad_fn=<MeanBackward0>)\n",
            "tensor(0.0439, grad_fn=<MeanBackward0>)\n",
            "tensor(0.0428, grad_fn=<MeanBackward0>)\n",
            "tensor(0.0443, grad_fn=<MeanBackward0>)\n",
            "tensor(0.0434, grad_fn=<MeanBackward0>)\n",
            "tensor(0.0433, grad_fn=<MeanBackward0>)\n",
            "tensor(0.0430, grad_fn=<MeanBackward0>)\n",
            "tensor(0.0450, grad_fn=<MeanBackward0>)\n",
            "tensor(0.0451, grad_fn=<MeanBackward0>)\n",
            "tensor(0.0443, grad_fn=<MeanBackward0>)\n",
            "tensor(0.0422, grad_fn=<MeanBackward0>)\n",
            "tensor(0.0420, grad_fn=<MeanBackward0>)\n",
            "tensor(0.0417, grad_fn=<MeanBackward0>)\n",
            "tensor(0.0424, grad_fn=<MeanBackward0>)\n",
            "tensor(0.0425, grad_fn=<MeanBackward0>)\n",
            "tensor(0.0426, grad_fn=<MeanBackward0>)\n",
            "tensor(0.0428, grad_fn=<MeanBackward0>)\n",
            "tensor(0.0423, grad_fn=<MeanBackward0>)\n",
            "tensor(0.0423, grad_fn=<MeanBackward0>)\n",
            "tensor(0.0421, grad_fn=<MeanBackward0>)\n",
            "tensor(0.0420, grad_fn=<MeanBackward0>)\n",
            "tensor(0.0422, grad_fn=<MeanBackward0>)\n",
            "tensor(0.0432, grad_fn=<MeanBackward0>)\n",
            "tensor(0.0434, grad_fn=<MeanBackward0>)\n",
            "tensor(0.0409, grad_fn=<MeanBackward0>)\n",
            "tensor(0.0422, grad_fn=<MeanBackward0>)\n",
            "tensor(0.0417, grad_fn=<MeanBackward0>)\n",
            "tensor(0.0418, grad_fn=<MeanBackward0>)\n",
            "tensor(0.0413, grad_fn=<MeanBackward0>)\n",
            "tensor(0.0431, grad_fn=<MeanBackward0>)\n",
            "tensor(0.0449, grad_fn=<MeanBackward0>)\n",
            "tensor(0.0433, grad_fn=<MeanBackward0>)\n",
            "tensor(0.0414, grad_fn=<MeanBackward0>)\n",
            "tensor(0.0430, grad_fn=<MeanBackward0>)\n",
            "tensor(0.0412, grad_fn=<MeanBackward0>)\n",
            "tensor(0.0408, grad_fn=<MeanBackward0>)\n",
            "tensor(0.0414, grad_fn=<MeanBackward0>)\n",
            "tensor(0.0427, grad_fn=<MeanBackward0>)\n",
            "tensor(0.0432, grad_fn=<MeanBackward0>)\n",
            "tensor(0.0424, grad_fn=<MeanBackward0>)\n",
            "tensor(0.0418, grad_fn=<MeanBackward0>)\n",
            "tensor(0.0433, grad_fn=<MeanBackward0>)\n",
            "tensor(0.0433, grad_fn=<MeanBackward0>)\n",
            "tensor(0.0413, grad_fn=<MeanBackward0>)\n",
            "tensor(0.0415, grad_fn=<MeanBackward0>)\n",
            "tensor(0.0418, grad_fn=<MeanBackward0>)\n",
            "tensor(0.0407, grad_fn=<MeanBackward0>)\n",
            "tensor(0.0404, grad_fn=<MeanBackward0>)\n",
            "tensor(0.0401, grad_fn=<MeanBackward0>)\n",
            "tensor(0.0399, grad_fn=<MeanBackward0>)\n",
            "tensor(0.0401, grad_fn=<MeanBackward0>)\n",
            "tensor(0.0398, grad_fn=<MeanBackward0>)\n",
            "tensor(0.0409, grad_fn=<MeanBackward0>)\n",
            "tensor(0.0407, grad_fn=<MeanBackward0>)\n",
            "tensor(0.0403, grad_fn=<MeanBackward0>)\n",
            "tensor(0.0401, grad_fn=<MeanBackward0>)\n",
            "tensor(0.0409, grad_fn=<MeanBackward0>)\n",
            "tensor(0.0407, grad_fn=<MeanBackward0>)\n",
            "tensor(0.0398, grad_fn=<MeanBackward0>)\n",
            "tensor(0.0395, grad_fn=<MeanBackward0>)\n",
            "tensor(0.0396, grad_fn=<MeanBackward0>)\n",
            "tensor(0.0405, grad_fn=<MeanBackward0>)\n",
            "tensor(0.0403, grad_fn=<MeanBackward0>)\n",
            "tensor(0.0395, grad_fn=<MeanBackward0>)\n",
            "tensor(0.0395, grad_fn=<MeanBackward0>)\n",
            "tensor(0.0399, grad_fn=<MeanBackward0>)\n",
            "tensor(0.0406, grad_fn=<MeanBackward0>)\n",
            "tensor(0.0405, grad_fn=<MeanBackward0>)\n",
            "tensor(0.0393, grad_fn=<MeanBackward0>)\n",
            "tensor(0.0389, grad_fn=<MeanBackward0>)\n",
            "tensor(0.0398, grad_fn=<MeanBackward0>)\n",
            "tensor(0.0409, grad_fn=<MeanBackward0>)\n",
            "tensor(0.0395, grad_fn=<MeanBackward0>)\n",
            "tensor(0.0385, grad_fn=<MeanBackward0>)\n",
            "tensor(0.0405, grad_fn=<MeanBackward0>)\n",
            "tensor(0.0393, grad_fn=<MeanBackward0>)\n",
            "tensor(0.0400, grad_fn=<MeanBackward0>)\n",
            "tensor(0.0402, grad_fn=<MeanBackward0>)\n",
            "tensor(0.0404, grad_fn=<MeanBackward0>)\n",
            "tensor(0.0392, grad_fn=<MeanBackward0>)\n",
            "tensor(0.0392, grad_fn=<MeanBackward0>)\n",
            "tensor(0.0393, grad_fn=<MeanBackward0>)\n",
            "tensor(0.0389, grad_fn=<MeanBackward0>)\n",
            "tensor(0.0390, grad_fn=<MeanBackward0>)\n",
            "tensor(0.0389, grad_fn=<MeanBackward0>)\n",
            "tensor(0.0390, grad_fn=<MeanBackward0>)\n",
            "tensor(0.0396, grad_fn=<MeanBackward0>)\n",
            "tensor(0.0383, grad_fn=<MeanBackward0>)\n",
            "tensor(0.0398, grad_fn=<MeanBackward0>)\n",
            "tensor(0.0382, grad_fn=<MeanBackward0>)\n",
            "tensor(0.0389, grad_fn=<MeanBackward0>)\n",
            "tensor(0.0392, grad_fn=<MeanBackward0>)\n",
            "tensor(0.0380, grad_fn=<MeanBackward0>)\n",
            "tensor(0.0386, grad_fn=<MeanBackward0>)\n",
            "tensor(0.0379, grad_fn=<MeanBackward0>)\n",
            "tensor(0.0378, grad_fn=<MeanBackward0>)\n",
            "tensor(0.0383, grad_fn=<MeanBackward0>)\n",
            "tensor(0.0386, grad_fn=<MeanBackward0>)\n",
            "tensor(0.0379, grad_fn=<MeanBackward0>)\n",
            "tensor(0.0384, grad_fn=<MeanBackward0>)\n",
            "tensor(0.0387, grad_fn=<MeanBackward0>)\n",
            "tensor(0.0396, grad_fn=<MeanBackward0>)\n",
            "tensor(0.0382, grad_fn=<MeanBackward0>)\n",
            "tensor(0.0384, grad_fn=<MeanBackward0>)\n",
            "tensor(0.0381, grad_fn=<MeanBackward0>)\n",
            "tensor(0.0378, grad_fn=<MeanBackward0>)\n",
            "tensor(0.0399, grad_fn=<MeanBackward0>)\n",
            "tensor(0.0385, grad_fn=<MeanBackward0>)\n",
            "tensor(0.0378, grad_fn=<MeanBackward0>)\n",
            "tensor(0.0382, grad_fn=<MeanBackward0>)\n",
            "tensor(0.0373, grad_fn=<MeanBackward0>)\n",
            "tensor(0.0388, grad_fn=<MeanBackward0>)\n",
            "tensor(0.0375, grad_fn=<MeanBackward0>)\n",
            "tensor(0.0376, grad_fn=<MeanBackward0>)\n",
            "tensor(0.0408, grad_fn=<MeanBackward0>)\n",
            "tensor(0.0373, grad_fn=<MeanBackward0>)\n",
            "tensor(0.0383, grad_fn=<MeanBackward0>)\n",
            "tensor(0.0435, grad_fn=<MeanBackward0>)\n",
            "tensor(0.0381, grad_fn=<MeanBackward0>)\n",
            "tensor(0.0369, grad_fn=<MeanBackward0>)\n",
            "tensor(0.0371, grad_fn=<MeanBackward0>)\n",
            "tensor(0.0374, grad_fn=<MeanBackward0>)\n",
            "tensor(0.0374, grad_fn=<MeanBackward0>)\n",
            "tensor(0.0375, grad_fn=<MeanBackward0>)\n",
            "tensor(0.0381, grad_fn=<MeanBackward0>)\n",
            "tensor(0.0373, grad_fn=<MeanBackward0>)\n",
            "tensor(0.0378, grad_fn=<MeanBackward0>)\n",
            "tensor(0.0366, grad_fn=<MeanBackward0>)\n",
            "tensor(0.0365, grad_fn=<MeanBackward0>)\n",
            "tensor(0.0369, grad_fn=<MeanBackward0>)\n",
            "tensor(0.0368, grad_fn=<MeanBackward0>)\n",
            "tensor(0.0379, grad_fn=<MeanBackward0>)\n",
            "tensor(0.0369, grad_fn=<MeanBackward0>)\n",
            "tensor(0.0369, grad_fn=<MeanBackward0>)\n",
            "tensor(0.0370, grad_fn=<MeanBackward0>)\n",
            "tensor(0.0374, grad_fn=<MeanBackward0>)\n",
            "tensor(0.0379, grad_fn=<MeanBackward0>)\n",
            "tensor(0.0367, grad_fn=<MeanBackward0>)\n",
            "tensor(0.0367, grad_fn=<MeanBackward0>)\n",
            "tensor(0.0366, grad_fn=<MeanBackward0>)\n",
            "tensor(0.0369, grad_fn=<MeanBackward0>)\n",
            "tensor(0.0359, grad_fn=<MeanBackward0>)\n",
            "tensor(0.0380, grad_fn=<MeanBackward0>)\n",
            "tensor(0.0372, grad_fn=<MeanBackward0>)\n",
            "tensor(0.0380, grad_fn=<MeanBackward0>)\n",
            "tensor(0.0365, grad_fn=<MeanBackward0>)\n",
            "tensor(0.0365, grad_fn=<MeanBackward0>)\n",
            "tensor(0.0359, grad_fn=<MeanBackward0>)\n",
            "tensor(0.0371, grad_fn=<MeanBackward0>)\n",
            "tensor(0.0363, grad_fn=<MeanBackward0>)\n",
            "tensor(0.0379, grad_fn=<MeanBackward0>)\n",
            "tensor(0.0368, grad_fn=<MeanBackward0>)\n",
            "tensor(0.0368, grad_fn=<MeanBackward0>)\n",
            "tensor(0.0356, grad_fn=<MeanBackward0>)\n",
            "tensor(0.0367, grad_fn=<MeanBackward0>)\n",
            "tensor(0.0378, grad_fn=<MeanBackward0>)\n",
            "tensor(0.0368, grad_fn=<MeanBackward0>)\n",
            "tensor(0.0365, grad_fn=<MeanBackward0>)\n",
            "tensor(0.0367, grad_fn=<MeanBackward0>)\n",
            "tensor(0.0355, grad_fn=<MeanBackward0>)\n",
            "tensor(0.0351, grad_fn=<MeanBackward0>)\n",
            "tensor(0.0362, grad_fn=<MeanBackward0>)\n",
            "tensor(0.0352, grad_fn=<MeanBackward0>)\n",
            "tensor(0.0354, grad_fn=<MeanBackward0>)\n",
            "tensor(0.0351, grad_fn=<MeanBackward0>)\n",
            "tensor(0.0365, grad_fn=<MeanBackward0>)\n",
            "tensor(0.0356, grad_fn=<MeanBackward0>)\n",
            "tensor(0.0364, grad_fn=<MeanBackward0>)\n",
            "tensor(0.0355, grad_fn=<MeanBackward0>)\n",
            "tensor(0.0352, grad_fn=<MeanBackward0>)\n",
            "tensor(0.0353, grad_fn=<MeanBackward0>)\n",
            "tensor(0.0360, grad_fn=<MeanBackward0>)\n",
            "tensor(0.0356, grad_fn=<MeanBackward0>)\n",
            "tensor(0.0347, grad_fn=<MeanBackward0>)\n",
            "tensor(0.0374, grad_fn=<MeanBackward0>)\n",
            "tensor(0.0350, grad_fn=<MeanBackward0>)\n",
            "tensor(0.0359, grad_fn=<MeanBackward0>)\n",
            "tensor(0.0363, grad_fn=<MeanBackward0>)\n",
            "tensor(0.0368, grad_fn=<MeanBackward0>)\n",
            "tensor(0.0364, grad_fn=<MeanBackward0>)\n",
            "tensor(0.0346, grad_fn=<MeanBackward0>)\n",
            "tensor(0.0350, grad_fn=<MeanBackward0>)\n",
            "tensor(0.0343, grad_fn=<MeanBackward0>)\n",
            "tensor(0.0344, grad_fn=<MeanBackward0>)\n",
            "tensor(0.0345, grad_fn=<MeanBackward0>)\n",
            "tensor(0.0366, grad_fn=<MeanBackward0>)\n",
            "tensor(0.0352, grad_fn=<MeanBackward0>)\n",
            "tensor(0.0371, grad_fn=<MeanBackward0>)\n",
            "tensor(0.0367, grad_fn=<MeanBackward0>)\n",
            "tensor(0.0364, grad_fn=<MeanBackward0>)\n",
            "tensor(0.0369, grad_fn=<MeanBackward0>)\n",
            "tensor(0.0348, grad_fn=<MeanBackward0>)\n",
            "tensor(0.0344, grad_fn=<MeanBackward0>)\n",
            "tensor(0.0359, grad_fn=<MeanBackward0>)\n",
            "tensor(0.0340, grad_fn=<MeanBackward0>)\n",
            "tensor(0.0357, grad_fn=<MeanBackward0>)\n",
            "tensor(0.0350, grad_fn=<MeanBackward0>)\n",
            "tensor(0.0344, grad_fn=<MeanBackward0>)\n",
            "tensor(0.0340, grad_fn=<MeanBackward0>)\n",
            "tensor(0.0343, grad_fn=<MeanBackward0>)\n",
            "tensor(0.0346, grad_fn=<MeanBackward0>)\n",
            "tensor(0.0344, grad_fn=<MeanBackward0>)\n",
            "tensor(0.0338, grad_fn=<MeanBackward0>)\n",
            "tensor(0.0341, grad_fn=<MeanBackward0>)\n",
            "tensor(0.0348, grad_fn=<MeanBackward0>)\n",
            "tensor(0.0343, grad_fn=<MeanBackward0>)\n",
            "tensor(0.0344, grad_fn=<MeanBackward0>)\n",
            "tensor(0.0335, grad_fn=<MeanBackward0>)\n",
            "tensor(0.0354, grad_fn=<MeanBackward0>)\n",
            "tensor(0.0344, grad_fn=<MeanBackward0>)\n",
            "tensor(0.0339, grad_fn=<MeanBackward0>)\n",
            "tensor(0.0362, grad_fn=<MeanBackward0>)\n",
            "tensor(0.0338, grad_fn=<MeanBackward0>)\n",
            "tensor(0.0349, grad_fn=<MeanBackward0>)\n",
            "tensor(0.0334, grad_fn=<MeanBackward0>)\n",
            "tensor(0.0339, grad_fn=<MeanBackward0>)\n",
            "tensor(0.0358, grad_fn=<MeanBackward0>)\n",
            "tensor(0.0356, grad_fn=<MeanBackward0>)\n",
            "tensor(0.0354, grad_fn=<MeanBackward0>)\n",
            "tensor(0.0354, grad_fn=<MeanBackward0>)\n",
            "tensor(0.0336, grad_fn=<MeanBackward0>)\n",
            "tensor(0.0335, grad_fn=<MeanBackward0>)\n",
            "tensor(0.0343, grad_fn=<MeanBackward0>)\n",
            "tensor(0.0343, grad_fn=<MeanBackward0>)\n",
            "tensor(0.0342, grad_fn=<MeanBackward0>)\n",
            "tensor(0.0338, grad_fn=<MeanBackward0>)\n",
            "tensor(0.0329, grad_fn=<MeanBackward0>)\n",
            "tensor(0.0329, grad_fn=<MeanBackward0>)\n",
            "tensor(0.0327, grad_fn=<MeanBackward0>)\n",
            "tensor(0.0332, grad_fn=<MeanBackward0>)\n",
            "tensor(0.0327, grad_fn=<MeanBackward0>)\n",
            "tensor(0.0326, grad_fn=<MeanBackward0>)\n",
            "tensor(0.0326, grad_fn=<MeanBackward0>)\n",
            "tensor(0.0336, grad_fn=<MeanBackward0>)\n",
            "tensor(0.0345, grad_fn=<MeanBackward0>)\n",
            "tensor(0.0347, grad_fn=<MeanBackward0>)\n",
            "tensor(0.0341, grad_fn=<MeanBackward0>)\n",
            "tensor(0.0355, grad_fn=<MeanBackward0>)\n",
            "tensor(0.0327, grad_fn=<MeanBackward0>)\n",
            "tensor(0.0334, grad_fn=<MeanBackward0>)\n",
            "tensor(0.0336, grad_fn=<MeanBackward0>)\n",
            "tensor(0.0330, grad_fn=<MeanBackward0>)\n",
            "tensor(0.0339, grad_fn=<MeanBackward0>)\n",
            "tensor(0.0328, grad_fn=<MeanBackward0>)\n",
            "tensor(0.0329, grad_fn=<MeanBackward0>)\n",
            "tensor(0.0341, grad_fn=<MeanBackward0>)\n",
            "tensor(0.0329, grad_fn=<MeanBackward0>)\n",
            "tensor(0.0330, grad_fn=<MeanBackward0>)\n",
            "tensor(0.0337, grad_fn=<MeanBackward0>)\n",
            "tensor(0.0324, grad_fn=<MeanBackward0>)\n",
            "tensor(0.0330, grad_fn=<MeanBackward0>)\n",
            "tensor(0.0334, grad_fn=<MeanBackward0>)\n",
            "tensor(0.0325, grad_fn=<MeanBackward0>)\n",
            "tensor(0.0327, grad_fn=<MeanBackward0>)\n",
            "tensor(0.0334, grad_fn=<MeanBackward0>)\n",
            "tensor(0.0327, grad_fn=<MeanBackward0>)\n",
            "tensor(0.0325, grad_fn=<MeanBackward0>)\n",
            "tensor(0.0329, grad_fn=<MeanBackward0>)\n",
            "tensor(0.0327, grad_fn=<MeanBackward0>)\n",
            "tensor(0.0325, grad_fn=<MeanBackward0>)\n",
            "tensor(0.0325, grad_fn=<MeanBackward0>)\n",
            "tensor(0.0328, grad_fn=<MeanBackward0>)\n",
            "tensor(0.0327, grad_fn=<MeanBackward0>)\n",
            "tensor(0.0327, grad_fn=<MeanBackward0>)\n",
            "tensor(0.0323, grad_fn=<MeanBackward0>)\n",
            "tensor(0.0320, grad_fn=<MeanBackward0>)\n",
            "tensor(0.0319, grad_fn=<MeanBackward0>)\n",
            "tensor(0.0318, grad_fn=<MeanBackward0>)\n",
            "tensor(0.0318, grad_fn=<MeanBackward0>)\n",
            "tensor(0.0321, grad_fn=<MeanBackward0>)\n",
            "tensor(0.0318, grad_fn=<MeanBackward0>)\n",
            "tensor(0.0316, grad_fn=<MeanBackward0>)\n",
            "tensor(0.0319, grad_fn=<MeanBackward0>)\n",
            "tensor(0.0323, grad_fn=<MeanBackward0>)\n",
            "tensor(0.0325, grad_fn=<MeanBackward0>)\n",
            "tensor(0.0313, grad_fn=<MeanBackward0>)\n",
            "tensor(0.0322, grad_fn=<MeanBackward0>)\n",
            "tensor(0.0313, grad_fn=<MeanBackward0>)\n",
            "tensor(0.0311, grad_fn=<MeanBackward0>)\n",
            "tensor(0.0311, grad_fn=<MeanBackward0>)\n",
            "tensor(0.0316, grad_fn=<MeanBackward0>)\n",
            "tensor(0.0316, grad_fn=<MeanBackward0>)\n",
            "tensor(0.0311, grad_fn=<MeanBackward0>)\n",
            "tensor(0.0315, grad_fn=<MeanBackward0>)\n",
            "tensor(0.0311, grad_fn=<MeanBackward0>)\n",
            "tensor(0.0309, grad_fn=<MeanBackward0>)\n",
            "tensor(0.0315, grad_fn=<MeanBackward0>)\n",
            "tensor(0.0322, grad_fn=<MeanBackward0>)\n",
            "tensor(0.0309, grad_fn=<MeanBackward0>)\n",
            "tensor(0.0310, grad_fn=<MeanBackward0>)\n",
            "tensor(0.0309, grad_fn=<MeanBackward0>)\n",
            "tensor(0.0309, grad_fn=<MeanBackward0>)\n",
            "tensor(0.0309, grad_fn=<MeanBackward0>)\n",
            "tensor(0.0313, grad_fn=<MeanBackward0>)\n",
            "tensor(0.0316, grad_fn=<MeanBackward0>)\n",
            "tensor(0.0316, grad_fn=<MeanBackward0>)\n",
            "tensor(0.0304, grad_fn=<MeanBackward0>)\n",
            "tensor(0.0306, grad_fn=<MeanBackward0>)\n",
            "tensor(0.0306, grad_fn=<MeanBackward0>)\n",
            "tensor(0.0308, grad_fn=<MeanBackward0>)\n",
            "tensor(0.0311, grad_fn=<MeanBackward0>)\n",
            "tensor(0.0320, grad_fn=<MeanBackward0>)\n",
            "tensor(0.0306, grad_fn=<MeanBackward0>)\n",
            "tensor(0.0310, grad_fn=<MeanBackward0>)\n",
            "tensor(0.0306, grad_fn=<MeanBackward0>)\n",
            "tensor(0.0308, grad_fn=<MeanBackward0>)\n",
            "tensor(0.0311, grad_fn=<MeanBackward0>)\n",
            "tensor(0.0308, grad_fn=<MeanBackward0>)\n",
            "tensor(0.0301, grad_fn=<MeanBackward0>)\n",
            "tensor(0.0305, grad_fn=<MeanBackward0>)\n",
            "tensor(0.0299, grad_fn=<MeanBackward0>)\n",
            "tensor(0.0299, grad_fn=<MeanBackward0>)\n",
            "tensor(0.0311, grad_fn=<MeanBackward0>)\n",
            "tensor(0.0312, grad_fn=<MeanBackward0>)\n",
            "tensor(0.0308, grad_fn=<MeanBackward0>)\n",
            "tensor(0.0300, grad_fn=<MeanBackward0>)\n",
            "tensor(0.0299, grad_fn=<MeanBackward0>)\n",
            "tensor(0.0300, grad_fn=<MeanBackward0>)\n",
            "tensor(0.0298, grad_fn=<MeanBackward0>)\n",
            "tensor(0.0297, grad_fn=<MeanBackward0>)\n",
            "tensor(0.0307, grad_fn=<MeanBackward0>)\n",
            "tensor(0.0299, grad_fn=<MeanBackward0>)\n",
            "tensor(0.0304, grad_fn=<MeanBackward0>)\n",
            "tensor(0.0294, grad_fn=<MeanBackward0>)\n",
            "tensor(0.0295, grad_fn=<MeanBackward0>)\n",
            "tensor(0.0299, grad_fn=<MeanBackward0>)\n",
            "tensor(0.0296, grad_fn=<MeanBackward0>)\n",
            "tensor(0.0316, grad_fn=<MeanBackward0>)\n",
            "tensor(0.0296, grad_fn=<MeanBackward0>)\n",
            "tensor(0.0311, grad_fn=<MeanBackward0>)\n",
            "tensor(0.0304, grad_fn=<MeanBackward0>)\n",
            "tensor(0.0296, grad_fn=<MeanBackward0>)\n",
            "tensor(0.0297, grad_fn=<MeanBackward0>)\n",
            "tensor(0.0296, grad_fn=<MeanBackward0>)\n",
            "tensor(0.0306, grad_fn=<MeanBackward0>)\n",
            "tensor(0.0290, grad_fn=<MeanBackward0>)\n",
            "tensor(0.0293, grad_fn=<MeanBackward0>)\n",
            "tensor(0.0306, grad_fn=<MeanBackward0>)\n",
            "tensor(0.0303, grad_fn=<MeanBackward0>)\n",
            "tensor(0.0291, grad_fn=<MeanBackward0>)\n",
            "tensor(0.0304, grad_fn=<MeanBackward0>)\n",
            "tensor(0.0307, grad_fn=<MeanBackward0>)\n",
            "tensor(0.0290, grad_fn=<MeanBackward0>)\n",
            "tensor(0.0295, grad_fn=<MeanBackward0>)\n",
            "tensor(0.0297, grad_fn=<MeanBackward0>)\n",
            "tensor(0.0298, grad_fn=<MeanBackward0>)\n",
            "tensor(0.0299, grad_fn=<MeanBackward0>)\n",
            "tensor(0.0290, grad_fn=<MeanBackward0>)\n",
            "tensor(0.0289, grad_fn=<MeanBackward0>)\n",
            "tensor(0.0294, grad_fn=<MeanBackward0>)\n",
            "tensor(0.0292, grad_fn=<MeanBackward0>)\n",
            "tensor(0.0284, grad_fn=<MeanBackward0>)\n",
            "tensor(0.0294, grad_fn=<MeanBackward0>)\n",
            "tensor(0.0289, grad_fn=<MeanBackward0>)\n",
            "tensor(0.0290, grad_fn=<MeanBackward0>)\n",
            "tensor(0.0286, grad_fn=<MeanBackward0>)\n",
            "tensor(0.0295, grad_fn=<MeanBackward0>)\n",
            "tensor(0.0287, grad_fn=<MeanBackward0>)\n",
            "tensor(0.0288, grad_fn=<MeanBackward0>)\n",
            "tensor(0.0287, grad_fn=<MeanBackward0>)\n",
            "tensor(0.0285, grad_fn=<MeanBackward0>)\n",
            "tensor(0.0286, grad_fn=<MeanBackward0>)\n",
            "tensor(0.0290, grad_fn=<MeanBackward0>)\n",
            "tensor(0.0292, grad_fn=<MeanBackward0>)\n",
            "tensor(0.0289, grad_fn=<MeanBackward0>)\n",
            "tensor(0.0290, grad_fn=<MeanBackward0>)\n",
            "tensor(0.0288, grad_fn=<MeanBackward0>)\n",
            "tensor(0.0289, grad_fn=<MeanBackward0>)\n",
            "tensor(0.0293, grad_fn=<MeanBackward0>)\n",
            "tensor(0.0286, grad_fn=<MeanBackward0>)\n",
            "tensor(0.0284, grad_fn=<MeanBackward0>)\n",
            "tensor(0.0287, grad_fn=<MeanBackward0>)\n",
            "tensor(0.0281, grad_fn=<MeanBackward0>)\n",
            "tensor(0.0287, grad_fn=<MeanBackward0>)\n",
            "tensor(0.0289, grad_fn=<MeanBackward0>)\n",
            "tensor(0.0293, grad_fn=<MeanBackward0>)\n",
            "tensor(0.0292, grad_fn=<MeanBackward0>)\n",
            "tensor(0.0288, grad_fn=<MeanBackward0>)\n",
            "tensor(0.0291, grad_fn=<MeanBackward0>)\n",
            "tensor(0.0285, grad_fn=<MeanBackward0>)\n",
            "tensor(0.0289, grad_fn=<MeanBackward0>)\n",
            "tensor(0.0285, grad_fn=<MeanBackward0>)\n",
            "tensor(0.0276, grad_fn=<MeanBackward0>)\n",
            "tensor(0.0278, grad_fn=<MeanBackward0>)\n",
            "tensor(0.0283, grad_fn=<MeanBackward0>)\n",
            "tensor(0.0277, grad_fn=<MeanBackward0>)\n",
            "tensor(0.0291, grad_fn=<MeanBackward0>)\n",
            "tensor(0.0285, grad_fn=<MeanBackward0>)\n",
            "tensor(0.0275, grad_fn=<MeanBackward0>)\n",
            "tensor(0.0283, grad_fn=<MeanBackward0>)\n",
            "tensor(0.0279, grad_fn=<MeanBackward0>)\n",
            "tensor(0.0284, grad_fn=<MeanBackward0>)\n",
            "tensor(0.0282, grad_fn=<MeanBackward0>)\n",
            "tensor(0.0279, grad_fn=<MeanBackward0>)\n",
            "tensor(0.0281, grad_fn=<MeanBackward0>)\n",
            "tensor(0.0279, grad_fn=<MeanBackward0>)\n",
            "tensor(0.0279, grad_fn=<MeanBackward0>)\n",
            "tensor(0.0278, grad_fn=<MeanBackward0>)\n",
            "tensor(0.0277, grad_fn=<MeanBackward0>)\n",
            "tensor(0.0272, grad_fn=<MeanBackward0>)\n",
            "tensor(0.0277, grad_fn=<MeanBackward0>)\n",
            "tensor(0.0273, grad_fn=<MeanBackward0>)\n",
            "tensor(0.0278, grad_fn=<MeanBackward0>)\n",
            "tensor(0.0279, grad_fn=<MeanBackward0>)\n"
          ]
        },
        {
          "output_type": "execute_result",
          "data": {
            "text/plain": [
              "<PIL.Image.Image image mode=RGB size=128x128>"
            ],
            "image/png": "[encoded data removed]",
            "image/jpeg": "[encoded data removed]"
          },
          "metadata": {},
          "execution_count": 27
        }
      ]
    },
    {
      "cell_type": "code",
      "source": [
        "im_small"
      ],
      "metadata": {
        "colab": {
          "base_uri": "https://localhost:8080/",
          "height": 145
        },
        "id": "62iqHMn_TXw8",
        "outputId": "0344c73d-7a2b-4ed9-ee09-e11e17953ddd"
      },
      "execution_count": null,
      "outputs": [
        {
          "output_type": "execute_result",
          "data": {
            "text/plain": [
              "<PIL.Image.Image image mode=RGB size=128x128>"
            ],
            "image/png": "[encoded data removed]",
            "image/jpeg": "[encoded data removed]"
          },
          "metadata": {},
          "execution_count": 18
        }
      ]
    },
    {
      "cell_type": "markdown",
      "source": [
        "# Transformer Architecture"
      ],
      "metadata": {
        "id": "EPNchQiQXfkE"
      }
    },
    {
      "cell_type": "code",
      "source": [
        "Transformer architecture is Multi-Head Attention + Multi layer perceptron (linear, relu, linear, norms, and res net)\n"
      ],
      "metadata": {
        "id": "f65tNBrPXdpJ"
      },
      "execution_count": null,
      "outputs": []
    },
    {
      "cell_type": "code",
      "source": [
        "import torch"
      ],
      "metadata": {
        "id": "Cta9H0p-emj4"
      },
      "execution_count": null,
      "outputs": []
    },
    {
      "cell_type": "code",
      "source": [
        "class TransformerBlock(torch.nn.Module):\n",
        "  def __init__(self, embed_dim, n_heads):\n",
        "    super().__init__()\n",
        "    self.self_attn = torch.nn.MultiheadAttention(embed_dim, n_heads, batch_first=True)\n",
        "    self.mlp = torch.nn.Sequential(\n",
        "        torch.nn.Linear(embed_dim, embed_dim*4),\n",
        "        torch.nn.ReLU(),\n",
        "        torch.nn.Linear(embed_dim*4, embed_dim),\n",
        "    )\n",
        "\n",
        "    self.in_norm  = torch.nn.LayerNorm(embed_dim)\n",
        "    self.mlp_norm = torch.nn.LayerNorm(embed_dim)\n",
        "\n",
        "  def forward(self, x):\n",
        "    x_norm = self.in_norm(x)\n",
        "    x = x + self.self_attn(x_norm, x_norm, x_norm)[0] # the x + is the residual connection, basocally addind identity X\n",
        "    x = x + self.mlp(self.mlp_norm(x)) # this is vanilla transformer layer.\n",
        "    return x\n",
        "\n",
        "class Transformer(torch.nn.Module):\n",
        "  def __init__(self, embed_dim, n_heads, n_layers):\n",
        "    super().__init__()\n",
        "    self.net = torch.nn.Sequential(\n",
        "        *[\n",
        "            TransformerBlock(embed_dim, n_heads) for _ in range(n_layers)\n",
        "        ]\n",
        "        )\n",
        "\n",
        "  def forward(self, x):\n",
        "    return self.net(x)\n",
        "\n",
        "net = Transformer(128,8,4)\n",
        "x = torch.rand(16,10,128) # Same Dimension goes in and smae dim comes out. All that happens is it goes through a bunch of transformer layers.\n",
        "print(net(x).shape)\n",
        "\n"
      ],
      "metadata": {
        "colab": {
          "base_uri": "https://localhost:8080/"
        },
        "id": "r2P2jZ1QeoqE",
        "outputId": "578ab4c9-2313-4da4-d552-247f844b7458"
      },
      "execution_count": null,
      "outputs": [
        {
          "output_type": "stream",
          "name": "stdout",
          "text": [
            "torch.Size([16, 10, 128])\n"
          ]
        }
      ]
    }
  ]
}